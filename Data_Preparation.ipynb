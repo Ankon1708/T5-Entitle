{
  "cells": [
    {
      "cell_type": "code",
      "execution_count": 1,
      "id": "9d312ff6-8bc0-4c08-baf8-7c70f2b7a17c",
      "metadata": {
        "id": "9d312ff6-8bc0-4c08-baf8-7c70f2b7a17c"
      },
      "outputs": [],
      "source": [
        "import numpy as np\n",
        "import pandas as pd\n",
        "import nltk\n",
        "from nltk.tokenize import word_tokenize, sent_tokenize\n",
        "from datasets import Dataset,concatenate_datasets,DatasetDict\n",
        "from transformers import AutoTokenizer"
      ]
    },
    {
      "cell_type": "code",
      "source": [
        "import os\n",
        "from kaggle_secrets import UserSecretsClient\n",
        "user_secrets = UserSecretsClient()\n",
        "os.environ[\"HF_TOKEN\"] = user_secrets.get_secret(\"HF_ACC_TOK\")"
      ],
      "metadata": {
        "id": "HCWTNlX_KruZ"
      },
      "id": "HCWTNlX_KruZ",
      "execution_count": null,
      "outputs": []
    },
    {
      "cell_type": "code",
      "execution_count": null,
      "id": "9c5a1d18-e728-4dab-845a-6478ea7fa1eb",
      "metadata": {
        "id": "9c5a1d18-e728-4dab-845a-6478ea7fa1eb"
      },
      "outputs": [],
      "source": [
        "df=pd.read_csv('/kaggle/input/financial-news-headlines/reuters_headlines.csv')"
      ]
    },
    {
      "cell_type": "code",
      "execution_count": null,
      "id": "f8e11564-4a45-415c-9f27-f0d9476ce2d6",
      "metadata": {
        "id": "f8e11564-4a45-415c-9f27-f0d9476ce2d6",
        "outputId": "b2e8abcc-adca-4dc4-dc86-8521fe57ed77"
      },
      "outputs": [
        {
          "data": {
            "text/html": [
              "<div>\n",
              "<style scoped>\n",
              "    .dataframe tbody tr th:only-of-type {\n",
              "        vertical-align: middle;\n",
              "    }\n",
              "\n",
              "    .dataframe tbody tr th {\n",
              "        vertical-align: top;\n",
              "    }\n",
              "\n",
              "    .dataframe thead th {\n",
              "        text-align: right;\n",
              "    }\n",
              "</style>\n",
              "<table border=\"1\" class=\"dataframe\">\n",
              "  <thead>\n",
              "    <tr style=\"text-align: right;\">\n",
              "      <th></th>\n",
              "      <th>Headlines</th>\n",
              "      <th>Time</th>\n",
              "      <th>Description</th>\n",
              "    </tr>\n",
              "  </thead>\n",
              "  <tbody>\n",
              "    <tr>\n",
              "      <th>0</th>\n",
              "      <td>TikTok considers London and other locations fo...</td>\n",
              "      <td>Jul 18 2020</td>\n",
              "      <td>TikTok has been in discussions with the UK gov...</td>\n",
              "    </tr>\n",
              "    <tr>\n",
              "      <th>1</th>\n",
              "      <td>Disney cuts ad spending on Facebook amid growi...</td>\n",
              "      <td>Jul 18 2020</td>\n",
              "      <td>Walt Disney  has become the latest company to ...</td>\n",
              "    </tr>\n",
              "    <tr>\n",
              "      <th>2</th>\n",
              "      <td>Trail of missing Wirecard executive leads to B...</td>\n",
              "      <td>Jul 18 2020</td>\n",
              "      <td>Former Wirecard  chief operating officer Jan M...</td>\n",
              "    </tr>\n",
              "    <tr>\n",
              "      <th>3</th>\n",
              "      <td>Twitter says attackers downloaded data from up...</td>\n",
              "      <td>Jul 18 2020</td>\n",
              "      <td>Twitter Inc said on Saturday that hackers were...</td>\n",
              "    </tr>\n",
              "    <tr>\n",
              "      <th>4</th>\n",
              "      <td>U.S. Republicans seek liability protections as...</td>\n",
              "      <td>Jul 17 2020</td>\n",
              "      <td>A battle in the U.S. Congress over a new coron...</td>\n",
              "    </tr>\n",
              "  </tbody>\n",
              "</table>\n",
              "</div>"
            ],
            "text/plain": [
              "                                           Headlines         Time  \\\n",
              "0  TikTok considers London and other locations fo...  Jul 18 2020   \n",
              "1  Disney cuts ad spending on Facebook amid growi...  Jul 18 2020   \n",
              "2  Trail of missing Wirecard executive leads to B...  Jul 18 2020   \n",
              "3  Twitter says attackers downloaded data from up...  Jul 18 2020   \n",
              "4  U.S. Republicans seek liability protections as...  Jul 17 2020   \n",
              "\n",
              "                                         Description  \n",
              "0  TikTok has been in discussions with the UK gov...  \n",
              "1  Walt Disney  has become the latest company to ...  \n",
              "2  Former Wirecard  chief operating officer Jan M...  \n",
              "3  Twitter Inc said on Saturday that hackers were...  \n",
              "4  A battle in the U.S. Congress over a new coron...  "
            ]
          },
          "execution_count": 3,
          "metadata": {},
          "output_type": "execute_result"
        }
      ],
      "source": [
        "df.head()"
      ]
    },
    {
      "cell_type": "code",
      "execution_count": null,
      "id": "6a9e32ad-aed2-489e-a968-f08ff0b2c859",
      "metadata": {
        "id": "6a9e32ad-aed2-489e-a968-f08ff0b2c859",
        "outputId": "0ff1bbf0-4e72-4f1d-97d1-13d199a78ed5"
      },
      "outputs": [
        {
          "name": "stdout",
          "output_type": "stream",
          "text": [
            "<class 'pandas.core.frame.DataFrame'>\n",
            "RangeIndex: 32770 entries, 0 to 32769\n",
            "Data columns (total 3 columns):\n",
            " #   Column       Non-Null Count  Dtype \n",
            "---  ------       --------------  ----- \n",
            " 0   Headlines    32770 non-null  object\n",
            " 1   Time         32770 non-null  object\n",
            " 2   Description  32770 non-null  object\n",
            "dtypes: object(3)\n",
            "memory usage: 768.2+ KB\n"
          ]
        }
      ],
      "source": [
        "df.info()"
      ]
    },
    {
      "cell_type": "code",
      "execution_count": null,
      "id": "a9d78ace-c418-448d-8f27-cb1b54aa0add",
      "metadata": {
        "id": "a9d78ace-c418-448d-8f27-cb1b54aa0add",
        "outputId": "2b415fae-a221-497b-fef3-676ec7ccd592"
      },
      "outputs": [
        {
          "data": {
            "text/plain": [
              "Headlines      0\n",
              "Time           0\n",
              "Description    0\n",
              "dtype: int64"
            ]
          },
          "execution_count": 5,
          "metadata": {},
          "output_type": "execute_result"
        }
      ],
      "source": [
        "df.isnull().sum()"
      ]
    },
    {
      "cell_type": "code",
      "execution_count": null,
      "id": "4537c3d2-3e3b-4b93-8ba2-e7b8bb994d2f",
      "metadata": {
        "id": "4537c3d2-3e3b-4b93-8ba2-e7b8bb994d2f"
      },
      "outputs": [],
      "source": [
        "df_original=df.copy()"
      ]
    },
    {
      "cell_type": "code",
      "execution_count": null,
      "id": "897740a3-2db0-4cea-a8be-c14899bf34eb",
      "metadata": {
        "id": "897740a3-2db0-4cea-a8be-c14899bf34eb"
      },
      "outputs": [],
      "source": [
        "df=df_original.loc[:,df_original.columns[[0,2]]]"
      ]
    },
    {
      "cell_type": "markdown",
      "id": "6a661623-b19e-4b90-afce-a3f029314402",
      "metadata": {
        "id": "6a661623-b19e-4b90-afce-a3f029314402"
      },
      "source": [
        "# Text Analysis"
      ]
    },
    {
      "cell_type": "markdown",
      "id": "d4079be2-b2b9-4213-9366-4302af4970e3",
      "metadata": {
        "id": "d4079be2-b2b9-4213-9366-4302af4970e3"
      },
      "source": [
        "## Text Length - Characters"
      ]
    },
    {
      "cell_type": "code",
      "execution_count": null,
      "id": "6ae3bcb6-3a59-48df-b318-b630c8c1d643",
      "metadata": {
        "id": "6ae3bcb6-3a59-48df-b318-b630c8c1d643"
      },
      "outputs": [],
      "source": [
        "df_text_length=pd.DataFrame()\n",
        "for x in df.columns:\n",
        "    df_text_length[x]=df[x].str.len()"
      ]
    },
    {
      "cell_type": "code",
      "execution_count": null,
      "id": "486cf03a-15ad-44b3-94a3-d4279fea7eb2",
      "metadata": {
        "id": "486cf03a-15ad-44b3-94a3-d4279fea7eb2",
        "outputId": "928b0f0b-a567-466a-c5b8-027b54f28da2"
      },
      "outputs": [
        {
          "data": {
            "text/html": [
              "<div>\n",
              "<style scoped>\n",
              "    .dataframe tbody tr th:only-of-type {\n",
              "        vertical-align: middle;\n",
              "    }\n",
              "\n",
              "    .dataframe tbody tr th {\n",
              "        vertical-align: top;\n",
              "    }\n",
              "\n",
              "    .dataframe thead th {\n",
              "        text-align: right;\n",
              "    }\n",
              "</style>\n",
              "<table border=\"1\" class=\"dataframe\">\n",
              "  <thead>\n",
              "    <tr style=\"text-align: right;\">\n",
              "      <th></th>\n",
              "      <th>Headlines</th>\n",
              "      <th>Description</th>\n",
              "    </tr>\n",
              "  </thead>\n",
              "  <tbody>\n",
              "    <tr>\n",
              "      <th>count</th>\n",
              "      <td>32770.000000</td>\n",
              "      <td>32770.000000</td>\n",
              "    </tr>\n",
              "    <tr>\n",
              "      <th>mean</th>\n",
              "      <td>65.290571</td>\n",
              "      <td>213.985383</td>\n",
              "    </tr>\n",
              "    <tr>\n",
              "      <th>std</th>\n",
              "      <td>10.675765</td>\n",
              "      <td>40.179914</td>\n",
              "    </tr>\n",
              "    <tr>\n",
              "      <th>min</th>\n",
              "      <td>20.000000</td>\n",
              "      <td>23.000000</td>\n",
              "    </tr>\n",
              "    <tr>\n",
              "      <th>25%</th>\n",
              "      <td>58.000000</td>\n",
              "      <td>191.000000</td>\n",
              "    </tr>\n",
              "    <tr>\n",
              "      <th>50%</th>\n",
              "      <td>65.000000</td>\n",
              "      <td>219.000000</td>\n",
              "    </tr>\n",
              "    <tr>\n",
              "      <th>75%</th>\n",
              "      <td>72.000000</td>\n",
              "      <td>239.000000</td>\n",
              "    </tr>\n",
              "    <tr>\n",
              "      <th>max</th>\n",
              "      <td>117.000000</td>\n",
              "      <td>500.000000</td>\n",
              "    </tr>\n",
              "  </tbody>\n",
              "</table>\n",
              "</div>"
            ],
            "text/plain": [
              "          Headlines   Description\n",
              "count  32770.000000  32770.000000\n",
              "mean      65.290571    213.985383\n",
              "std       10.675765     40.179914\n",
              "min       20.000000     23.000000\n",
              "25%       58.000000    191.000000\n",
              "50%       65.000000    219.000000\n",
              "75%       72.000000    239.000000\n",
              "max      117.000000    500.000000"
            ]
          },
          "execution_count": 10,
          "metadata": {},
          "output_type": "execute_result"
        }
      ],
      "source": [
        "df_text_length.describe()"
      ]
    },
    {
      "cell_type": "markdown",
      "id": "d1cb5c8a-5ef7-43ca-a2bf-22d286b74c54",
      "metadata": {
        "id": "d1cb5c8a-5ef7-43ca-a2bf-22d286b74c54"
      },
      "source": [
        "## Average Word Length"
      ]
    },
    {
      "cell_type": "code",
      "execution_count": null,
      "id": "07c72832-1ab1-4b0d-acbc-c919cd154f7e",
      "metadata": {
        "id": "07c72832-1ab1-4b0d-acbc-c919cd154f7e"
      },
      "outputs": [],
      "source": [
        "df_avg_word_length=pd.DataFrame()\n",
        "for x in df.columns:\n",
        "    df_avg_word_length[x]=df[x].apply(\n",
        "        lambda x: np.mean([len(word) for word in x.split()]) if x.split() else 0\n",
        "    )"
      ]
    },
    {
      "cell_type": "code",
      "execution_count": null,
      "id": "1911d5bd-fbb0-4f97-8ec2-a0dbba539396",
      "metadata": {
        "id": "1911d5bd-fbb0-4f97-8ec2-a0dbba539396",
        "outputId": "5b305124-c853-4d09-8876-e3945ff32c3a"
      },
      "outputs": [
        {
          "data": {
            "text/html": [
              "<div>\n",
              "<style scoped>\n",
              "    .dataframe tbody tr th:only-of-type {\n",
              "        vertical-align: middle;\n",
              "    }\n",
              "\n",
              "    .dataframe tbody tr th {\n",
              "        vertical-align: top;\n",
              "    }\n",
              "\n",
              "    .dataframe thead th {\n",
              "        text-align: right;\n",
              "    }\n",
              "</style>\n",
              "<table border=\"1\" class=\"dataframe\">\n",
              "  <thead>\n",
              "    <tr style=\"text-align: right;\">\n",
              "      <th></th>\n",
              "      <th>Headlines</th>\n",
              "      <th>Description</th>\n",
              "    </tr>\n",
              "  </thead>\n",
              "  <tbody>\n",
              "    <tr>\n",
              "      <th>count</th>\n",
              "      <td>32770.000000</td>\n",
              "      <td>32770.000000</td>\n",
              "    </tr>\n",
              "    <tr>\n",
              "      <th>mean</th>\n",
              "      <td>5.496406</td>\n",
              "      <td>5.265801</td>\n",
              "    </tr>\n",
              "    <tr>\n",
              "      <th>std</th>\n",
              "      <td>0.790320</td>\n",
              "      <td>0.468275</td>\n",
              "    </tr>\n",
              "    <tr>\n",
              "      <th>min</th>\n",
              "      <td>3.166667</td>\n",
              "      <td>3.692308</td>\n",
              "    </tr>\n",
              "    <tr>\n",
              "      <th>25%</th>\n",
              "      <td>4.923077</td>\n",
              "      <td>4.951220</td>\n",
              "    </tr>\n",
              "    <tr>\n",
              "      <th>50%</th>\n",
              "      <td>5.428571</td>\n",
              "      <td>5.235294</td>\n",
              "    </tr>\n",
              "    <tr>\n",
              "      <th>75%</th>\n",
              "      <td>6.000000</td>\n",
              "      <td>5.541667</td>\n",
              "    </tr>\n",
              "    <tr>\n",
              "      <th>max</th>\n",
              "      <td>10.750000</td>\n",
              "      <td>18.320000</td>\n",
              "    </tr>\n",
              "  </tbody>\n",
              "</table>\n",
              "</div>"
            ],
            "text/plain": [
              "          Headlines   Description\n",
              "count  32770.000000  32770.000000\n",
              "mean       5.496406      5.265801\n",
              "std        0.790320      0.468275\n",
              "min        3.166667      3.692308\n",
              "25%        4.923077      4.951220\n",
              "50%        5.428571      5.235294\n",
              "75%        6.000000      5.541667\n",
              "max       10.750000     18.320000"
            ]
          },
          "execution_count": 12,
          "metadata": {},
          "output_type": "execute_result"
        }
      ],
      "source": [
        "df_avg_word_length.describe()"
      ]
    },
    {
      "cell_type": "markdown",
      "id": "111ebbcd-9e66-4340-9d23-e62e6936cb7e",
      "metadata": {
        "id": "111ebbcd-9e66-4340-9d23-e62e6936cb7e"
      },
      "source": [
        "## Word Count"
      ]
    },
    {
      "cell_type": "code",
      "execution_count": null,
      "id": "2eb7b398-5677-4a70-a66e-fdb36de2b42e",
      "metadata": {
        "id": "2eb7b398-5677-4a70-a66e-fdb36de2b42e"
      },
      "outputs": [],
      "source": [
        "df_word_count=pd.DataFrame()\n",
        "for x in df.columns:\n",
        "    df_word_count[x]=df[x].apply(lambda x: len(word_tokenize(x)))"
      ]
    },
    {
      "cell_type": "code",
      "execution_count": null,
      "id": "048524df-daee-471e-99da-1c49721eeb20",
      "metadata": {
        "id": "048524df-daee-471e-99da-1c49721eeb20",
        "outputId": "dbc90959-c9e3-4ebf-db45-d2c3106ea9af"
      },
      "outputs": [
        {
          "data": {
            "text/html": [
              "<div>\n",
              "<style scoped>\n",
              "    .dataframe tbody tr th:only-of-type {\n",
              "        vertical-align: middle;\n",
              "    }\n",
              "\n",
              "    .dataframe tbody tr th {\n",
              "        vertical-align: top;\n",
              "    }\n",
              "\n",
              "    .dataframe thead th {\n",
              "        text-align: right;\n",
              "    }\n",
              "</style>\n",
              "<table border=\"1\" class=\"dataframe\">\n",
              "  <thead>\n",
              "    <tr style=\"text-align: right;\">\n",
              "      <th></th>\n",
              "      <th>Headlines</th>\n",
              "      <th>Description</th>\n",
              "    </tr>\n",
              "  </thead>\n",
              "  <tbody>\n",
              "    <tr>\n",
              "      <th>count</th>\n",
              "      <td>32770.000000</td>\n",
              "      <td>32770.000000</td>\n",
              "    </tr>\n",
              "    <tr>\n",
              "      <th>mean</th>\n",
              "      <td>11.289136</td>\n",
              "      <td>37.694507</td>\n",
              "    </tr>\n",
              "    <tr>\n",
              "      <th>std</th>\n",
              "      <td>2.279351</td>\n",
              "      <td>7.293172</td>\n",
              "    </tr>\n",
              "    <tr>\n",
              "      <th>min</th>\n",
              "      <td>3.000000</td>\n",
              "      <td>6.000000</td>\n",
              "    </tr>\n",
              "    <tr>\n",
              "      <th>25%</th>\n",
              "      <td>10.000000</td>\n",
              "      <td>33.000000</td>\n",
              "    </tr>\n",
              "    <tr>\n",
              "      <th>50%</th>\n",
              "      <td>11.000000</td>\n",
              "      <td>38.000000</td>\n",
              "    </tr>\n",
              "    <tr>\n",
              "      <th>75%</th>\n",
              "      <td>13.000000</td>\n",
              "      <td>42.000000</td>\n",
              "    </tr>\n",
              "    <tr>\n",
              "      <th>max</th>\n",
              "      <td>22.000000</td>\n",
              "      <td>99.000000</td>\n",
              "    </tr>\n",
              "  </tbody>\n",
              "</table>\n",
              "</div>"
            ],
            "text/plain": [
              "          Headlines   Description\n",
              "count  32770.000000  32770.000000\n",
              "mean      11.289136     37.694507\n",
              "std        2.279351      7.293172\n",
              "min        3.000000      6.000000\n",
              "25%       10.000000     33.000000\n",
              "50%       11.000000     38.000000\n",
              "75%       13.000000     42.000000\n",
              "max       22.000000     99.000000"
            ]
          },
          "execution_count": 16,
          "metadata": {},
          "output_type": "execute_result"
        }
      ],
      "source": [
        "df_word_count.describe()"
      ]
    },
    {
      "cell_type": "markdown",
      "id": "7ee1f25b-6bb8-4e9a-883c-da0c6e511aca",
      "metadata": {
        "id": "7ee1f25b-6bb8-4e9a-883c-da0c6e511aca"
      },
      "source": [
        "## Sentence Count"
      ]
    },
    {
      "cell_type": "code",
      "execution_count": null,
      "id": "4e70bfee-5317-4e97-b426-717da61c5779",
      "metadata": {
        "id": "4e70bfee-5317-4e97-b426-717da61c5779"
      },
      "outputs": [],
      "source": [
        "df_sentence_count=pd.DataFrame()\n",
        "for x in df.columns:\n",
        "    df_sentence_count[x]=df[x].apply(lambda x: len(sent_tokenize(x)))"
      ]
    },
    {
      "cell_type": "code",
      "execution_count": null,
      "id": "cfe0c4df-f0f4-4e2b-aa9b-c6a3336f9a3c",
      "metadata": {
        "id": "cfe0c4df-f0f4-4e2b-aa9b-c6a3336f9a3c",
        "outputId": "c93fbbdf-206c-4260-a29c-60d0806d6863"
      },
      "outputs": [
        {
          "data": {
            "text/html": [
              "<div>\n",
              "<style scoped>\n",
              "    .dataframe tbody tr th:only-of-type {\n",
              "        vertical-align: middle;\n",
              "    }\n",
              "\n",
              "    .dataframe tbody tr th {\n",
              "        vertical-align: top;\n",
              "    }\n",
              "\n",
              "    .dataframe thead th {\n",
              "        text-align: right;\n",
              "    }\n",
              "</style>\n",
              "<table border=\"1\" class=\"dataframe\">\n",
              "  <thead>\n",
              "    <tr style=\"text-align: right;\">\n",
              "      <th></th>\n",
              "      <th>Headlines</th>\n",
              "      <th>Description</th>\n",
              "    </tr>\n",
              "  </thead>\n",
              "  <tbody>\n",
              "    <tr>\n",
              "      <th>count</th>\n",
              "      <td>32770.000000</td>\n",
              "      <td>32770.000000</td>\n",
              "    </tr>\n",
              "    <tr>\n",
              "      <th>mean</th>\n",
              "      <td>1.009155</td>\n",
              "      <td>1.024138</td>\n",
              "    </tr>\n",
              "    <tr>\n",
              "      <th>std</th>\n",
              "      <td>0.098395</td>\n",
              "      <td>0.178484</td>\n",
              "    </tr>\n",
              "    <tr>\n",
              "      <th>min</th>\n",
              "      <td>1.000000</td>\n",
              "      <td>1.000000</td>\n",
              "    </tr>\n",
              "    <tr>\n",
              "      <th>25%</th>\n",
              "      <td>1.000000</td>\n",
              "      <td>1.000000</td>\n",
              "    </tr>\n",
              "    <tr>\n",
              "      <th>50%</th>\n",
              "      <td>1.000000</td>\n",
              "      <td>1.000000</td>\n",
              "    </tr>\n",
              "    <tr>\n",
              "      <th>75%</th>\n",
              "      <td>1.000000</td>\n",
              "      <td>1.000000</td>\n",
              "    </tr>\n",
              "    <tr>\n",
              "      <th>max</th>\n",
              "      <td>4.000000</td>\n",
              "      <td>8.000000</td>\n",
              "    </tr>\n",
              "  </tbody>\n",
              "</table>\n",
              "</div>"
            ],
            "text/plain": [
              "          Headlines   Description\n",
              "count  32770.000000  32770.000000\n",
              "mean       1.009155      1.024138\n",
              "std        0.098395      0.178484\n",
              "min        1.000000      1.000000\n",
              "25%        1.000000      1.000000\n",
              "50%        1.000000      1.000000\n",
              "75%        1.000000      1.000000\n",
              "max        4.000000      8.000000"
            ]
          },
          "execution_count": 18,
          "metadata": {},
          "output_type": "execute_result"
        }
      ],
      "source": [
        "df_sentence_count.describe()"
      ]
    },
    {
      "cell_type": "markdown",
      "id": "68730464-91fc-402b-8416-b5d7a62d1235",
      "metadata": {
        "id": "68730464-91fc-402b-8416-b5d7a62d1235"
      },
      "source": [
        "# Directive"
      ]
    },
    {
      "cell_type": "code",
      "execution_count": null,
      "id": "46e585c5-a08b-4496-843c-1fa11c2cd5c8",
      "metadata": {
        "id": "46e585c5-a08b-4496-843c-1fa11c2cd5c8"
      },
      "outputs": [],
      "source": [
        "df.iloc[:,1]=df.iloc[:,1].apply(lambda x: f'entitle: {x} ')"
      ]
    },
    {
      "cell_type": "code",
      "execution_count": null,
      "id": "09523058-60b1-4a67-8483-cd9bbf0190b0",
      "metadata": {
        "id": "09523058-60b1-4a67-8483-cd9bbf0190b0",
        "outputId": "8177aa73-b801-451d-c084-6e7deb70d64a"
      },
      "outputs": [
        {
          "data": {
            "text/html": [
              "<div>\n",
              "<style scoped>\n",
              "    .dataframe tbody tr th:only-of-type {\n",
              "        vertical-align: middle;\n",
              "    }\n",
              "\n",
              "    .dataframe tbody tr th {\n",
              "        vertical-align: top;\n",
              "    }\n",
              "\n",
              "    .dataframe thead th {\n",
              "        text-align: right;\n",
              "    }\n",
              "</style>\n",
              "<table border=\"1\" class=\"dataframe\">\n",
              "  <thead>\n",
              "    <tr style=\"text-align: right;\">\n",
              "      <th></th>\n",
              "      <th>Headlines</th>\n",
              "      <th>Description</th>\n",
              "    </tr>\n",
              "  </thead>\n",
              "  <tbody>\n",
              "    <tr>\n",
              "      <th>0</th>\n",
              "      <td>TikTok considers London and other locations fo...</td>\n",
              "      <td>entitle: TikTok has been in discussions with t...</td>\n",
              "    </tr>\n",
              "    <tr>\n",
              "      <th>1</th>\n",
              "      <td>Disney cuts ad spending on Facebook amid growi...</td>\n",
              "      <td>entitle: Walt Disney  has become the latest co...</td>\n",
              "    </tr>\n",
              "    <tr>\n",
              "      <th>2</th>\n",
              "      <td>Trail of missing Wirecard executive leads to B...</td>\n",
              "      <td>entitle: Former Wirecard  chief operating offi...</td>\n",
              "    </tr>\n",
              "    <tr>\n",
              "      <th>3</th>\n",
              "      <td>Twitter says attackers downloaded data from up...</td>\n",
              "      <td>entitle: Twitter Inc said on Saturday that hac...</td>\n",
              "    </tr>\n",
              "    <tr>\n",
              "      <th>4</th>\n",
              "      <td>U.S. Republicans seek liability protections as...</td>\n",
              "      <td>entitle: A battle in the U.S. Congress over a ...</td>\n",
              "    </tr>\n",
              "  </tbody>\n",
              "</table>\n",
              "</div>"
            ],
            "text/plain": [
              "                                           Headlines  \\\n",
              "0  TikTok considers London and other locations fo...   \n",
              "1  Disney cuts ad spending on Facebook amid growi...   \n",
              "2  Trail of missing Wirecard executive leads to B...   \n",
              "3  Twitter says attackers downloaded data from up...   \n",
              "4  U.S. Republicans seek liability protections as...   \n",
              "\n",
              "                                         Description  \n",
              "0  entitle: TikTok has been in discussions with t...  \n",
              "1  entitle: Walt Disney  has become the latest co...  \n",
              "2  entitle: Former Wirecard  chief operating offi...  \n",
              "3  entitle: Twitter Inc said on Saturday that hac...  \n",
              "4  entitle: A battle in the U.S. Congress over a ...  "
            ]
          },
          "execution_count": 20,
          "metadata": {},
          "output_type": "execute_result"
        }
      ],
      "source": [
        "df.head()"
      ]
    },
    {
      "cell_type": "markdown",
      "id": "2f6002ea-9ade-481d-b2f3-7bb435eabb03",
      "metadata": {
        "id": "2f6002ea-9ade-481d-b2f3-7bb435eabb03"
      },
      "source": [
        "# HuggingFace Dataset"
      ]
    },
    {
      "cell_type": "code",
      "execution_count": null,
      "id": "4f1432b5-b336-4fc3-b878-8be9a9013709",
      "metadata": {
        "id": "4f1432b5-b336-4fc3-b878-8be9a9013709"
      },
      "outputs": [],
      "source": [
        "hf_dataset = Dataset.from_pandas(df)"
      ]
    },
    {
      "cell_type": "code",
      "source": [
        "hf_dataset=hf_dataset.train_test_split(test_size=0.25, seed=42)\n",
        "hf_dataset_train=hf_dataset['train']\n",
        "hf_dataset_test=hf_dataset['test']"
      ],
      "metadata": {
        "id": "DRmHdOCeLUV3"
      },
      "id": "DRmHdOCeLUV3",
      "execution_count": null,
      "outputs": []
    },
    {
      "cell_type": "code",
      "source": [
        "hf_dataset_train=hf_dataset_train.train_test_split(test_size=0.2, seed=42)\n",
        "hf_dataset_val=hf_dataset_train['test']\n",
        "hf_dataset_train=hf_dataset_train['train']"
      ],
      "metadata": {
        "id": "HJ_PpdPOLdvF"
      },
      "id": "HJ_PpdPOLdvF",
      "execution_count": null,
      "outputs": []
    },
    {
      "cell_type": "code",
      "source": [
        "hf_dataset = DatasetDict({\n",
        "    \"train\":hf_dataset_train,\n",
        "    \"val\":hf_dataset_val,\n",
        "    \"test\":hf_dataset_test,})"
      ],
      "metadata": {
        "id": "eNBNNwq3LeXk"
      },
      "id": "eNBNNwq3LeXk",
      "execution_count": null,
      "outputs": []
    },
    {
      "cell_type": "code",
      "source": [
        "model_name=\"google/flan-t5-base\"\n",
        "tokenizer = AutoTokenizer.from_pretrained(model_name)\n",
        "\n",
        "max_input_length = 512\n",
        "max_target_length = 128\n",
        "\n",
        "def preprocess_function(examples):\n",
        "    inputs = [doc for doc in examples[\"Description\"]]\n",
        "    model_inputs = tokenizer(inputs, max_length=max_input_length, truncation=True)\n",
        "\n",
        "    labels = tokenizer(text_target=examples[\"Headlines\"], max_length=max_target_length, truncation=True)\n",
        "\n",
        "    model_inputs[\"labels\"] = labels[\"input_ids\"]\n",
        "    return model_inputs"
      ],
      "metadata": {
        "id": "b5wmMr5yLmEV"
      },
      "id": "b5wmMr5yLmEV",
      "execution_count": null,
      "outputs": []
    },
    {
      "cell_type": "code",
      "source": [
        "tokenized_dataset = hf_dataset.map(preprocess_function, batched=True)"
      ],
      "metadata": {
        "id": "n588OfGVLnqq"
      },
      "id": "n588OfGVLnqq",
      "execution_count": null,
      "outputs": []
    },
    {
      "cell_type": "code",
      "source": [
        "tokenized_dataset.push_to_hub(\"Ankonbh/Financial-News-Headlines-Reuters\")"
      ],
      "metadata": {
        "id": "siDX3z8gL5n7"
      },
      "id": "siDX3z8gL5n7",
      "execution_count": null,
      "outputs": []
    }
  ],
  "metadata": {
    "kernelspec": {
      "display_name": "Python 3 (ipykernel)",
      "language": "python",
      "name": "python3"
    },
    "language_info": {
      "codemirror_mode": {
        "name": "ipython",
        "version": 3
      },
      "file_extension": ".py",
      "mimetype": "text/x-python",
      "name": "python",
      "nbconvert_exporter": "python",
      "pygments_lexer": "ipython3",
      "version": "3.11.7"
    },
    "colab": {
      "provenance": []
    }
  },
  "nbformat": 4,
  "nbformat_minor": 5
}